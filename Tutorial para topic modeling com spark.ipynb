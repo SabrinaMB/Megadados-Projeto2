{
 "cells": [
  {
   "cell_type": "markdown",
   "metadata": {},
   "source": [
    "# Tutorial para usar topic modeling usando a biblioteca mllib do spark\n",
    "Este tutorial vai apresentar o conceito de topic modeling superficialmente, o foco dele sendo como utilizar este metodo de classificação de texto usando a biblioteca mllib do spark; a biblioteca, assim como o spark, vão ser introduzidos em mais detalhes na medida do necessario para a aplicação deles em contextos genericos de classificação de textos usando topic modeling.\n",
    "<img src=\"topicmodeling.png\" alt=\"Drawing\" style=\"width: 700px;\"/>"
   ]
  },
  {
   "cell_type": "markdown",
   "metadata": {},
   "source": [
    "## O que é topic modeling?\n",
    "Como introduzido, topic modeling é um metodo de classificação de textos. Superficialmente, topic modeling define topicos e calcula a aderencia de um texto a cada um destes topicos como um coeficiente -- se aplicação é seu interesse, voce pode pular o resto deste paragrafo. Existem varias formas de calcular o coeficiente de aderencia de um texto a um topico, a forma que vai ser usada neste texto é LDA - Latent Dirichlet Allocation. LDA vai ser usada como uma caixa preta, a matematica por traz do algoritmo não é o proposito deste tutorial, porem, é importante que fique claro que o calculo LDA é bastante custoso em termos de processamento e por isso ele foi a escolha deste tutorial para classificação de quantidades "
   ]
  }
 ],
 "metadata": {
  "kernelspec": {
   "display_name": "Python 3",
   "language": "python",
   "name": "python3"
  },
  "language_info": {
   "codemirror_mode": {
    "name": "ipython",
    "version": 3
   },
   "file_extension": ".py",
   "mimetype": "text/x-python",
   "name": "python",
   "nbconvert_exporter": "python",
   "pygments_lexer": "ipython3",
   "version": "3.6.3"
  }
 },
 "nbformat": 4,
 "nbformat_minor": 2
}
