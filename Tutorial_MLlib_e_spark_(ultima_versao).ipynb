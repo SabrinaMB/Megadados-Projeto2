{
 "cells": [
  {
   "cell_type": "markdown",
   "metadata": {},
   "source": [
    "# Tutorial para trabalhar com topic modeling usando a biblioteca mllib do spark para aplicações em big data\n",
    "Este tutorial vai apresentar o conceito de topic modeling superficialmente, o foco dele é como utilizar este método de classificação de texto usando a biblioteca mllib do spark. Essa biblioteca, assim como o spark, vai ser introduzida em mais detalhes conforme necessário para a sua aplicação em contextos genéricos de classificação de textos usando topic modeling.\n",
    "\n",
    "![alt text](https://www.depends-on-the-definition.com/wp-content/uploads/2018/11/IntroToLDA.png)"
   ]
  },
  {
   "cell_type": "markdown",
   "metadata": {},
   "source": [
    "## O que é topic modeling e para que serve?\n",
    "Como introduzido, topic modeling é um método de classificação de textos. Topic modeling define tópicos e calcula a aderência de um texto a cada um destes tópicos, o resultado da aderência a tópico é um coeficiente respectivo. \n",
    "\n",
    "Existem várias formas de calcular os coeficientes de aderência de um texto a um conjunto de tópicos, a forma que vai ser usada neste texto é LDA - Latent Dirichlet Allocation. LDA vai ser explicado a seguir no tutorial, ensinar a matemática por trás do algoritmo não é o propósito deste tutorial mas é importante que fique claro como o cálculo LDA é bastante custoso em termos de processamento; ele foi a escolha deste tutorial para classificação de enormes quantidades de texto por que o Spark é uma ferramenta ótima de paralelização de processamento.\n",
    "\n",
    "\n",
    "---\n",
    "\n",
    "\n",
    "### Latent Dirichlet... que?\n",
    "Deixa o nome pra lá por enquanto, ela será chamada de 'a coisa' para que o nome não cause confusão. Vamos focar primeiro no fato de 'a coisa' ser um método de classificação de documentos por tópicos, que tem parâmetros fixos e parâmetros latentes (guarda essa palavra!) - um subconjunto dentre os parâmetros latentes é o conjunto dos tópicos, a quantidade de tópicos é arbitrária. Se pensarmos no algoritmo como algo que fornece a probabilidade de um tópico ser o certo para um dado texto, e simplificando as variáveis um pouco, podemos descrevê-lo da seguinte maneira:\n",
    "\n",
    "$$\\begin{eqnarray}\n",
    "P (&topico&|&documento,&parametros fixos) = Aderencia&do&texto&ao&topico&\n",
    "\\end{eqnarray}$$\n",
    "\n",
    "Agora temos um propósito claro, achar o coeficiente de aderência do texto ao topico. Para chegarmos a esse objetivo, talvez seja mais fácil pensar no inverso desta probabilidade, ao invés de tentarmos saber a probabilidade do tópico dado o texto nós vamos tentar achar a probabilidade do texto dado o tópico; é confuso mas talvez isso ajude: vamos tentar gerar o texto que temos a partir de variar o valor das nossas variáveis que medem aderência a tópico e gerando um bloco de texto com elas.\n"
   ]
  },
  {
   "cell_type": "markdown",
   "metadata": {},
   "source": [
    "<h3>Dirichlet</h3>\n",
    "\n",
    "Como estamos usando LDA (Latent Dirichlet Allocation), é importante entender um pouco como funciona uma Dirichlet, pelo menos para o nosso caso específico.\n",
    "O que precisamos obter com Dirichlet é a probabilidade de um tópico ser o certo para um dado documento.\n",
    "Vamos quebrar a explicação para facilitar o entendimento: \n",
    "\n",
    "1. Escolher o tópico de onde virá esta palavra neste documento\n",
    "\n",
    "2. Escolher a palavra de dentro do tópico escolhido\n",
    "\n",
    "Vamos lá:\n",
    "\n",
    "1. Escolher o tópico:\n",
    "\n",
    "  *   Para escolher o tópico preciso de: probabilidade de tópico para aquele documento ($\\alpha$)\n",
    "      *   Cada documento tem suas próprias probabilidades do tópico: \"Tópicos do documento\"\n",
    "\n",
    "  \n",
    "  \n",
    "  1. 1  Escolher as probabilidades de tópico no documento:\n",
    "\n",
    "    *   Restrições: vetor meio esparso\n",
    "      *   Obter este vetor de probabilidades como uma amostra de uma distribuição de Dirichlet\n",
    "\n",
    "\n",
    "\n",
    "2. Escolher palavra do tópico:\n",
    "\n",
    "  *   Para escolher o tópico preciso de: probabilidades de palavra por tópico ($\\beta$)\n",
    "\n",
    "\n",
    "  2. 1  Escolher as probabilidades da palavra no tópico($\\varphi$):\n",
    "\n",
    "    *   Restrições: vetor meio esparso\n",
    "      *   Obter este vetor de probabilidades como uma amostra de uma distribuição de Dirichlet\n",
    "\n",
    "\n",
    "\n",
    "3. Escolhido o tópico, escolher a palavra:\n",
    "\n",
    "![alt text](https://miro.medium.com/max/635/1*qwA4jyRFBB6Htn3X4aftSw.png)\n",
    "\n",
    "\n"
   ]
  },
  {
   "cell_type": "markdown",
   "metadata": {},
   "source": [
    "## O que é spark e mllib?\n",
    "Uma busca rápida no google já te leva a se perder no mar de termos, \"*You might already know Apache Spark as a fast and general engine for big data processing, with built-in modules for streaming, SQL, machine learning and graph processing*\", na verdade não, se você está aqui você provavelmente não conhece spark ou mllib, então vamos nos introduzir a essas duas coisas. Spark é, afinal, uma engine de big data processing... o que quer dizer que Spark tem seu próprio método para distribuir o processamento de uma tarefa para várias maquinas com o intuito de reduzir o tempo que leva para processar conjuntos muito grandes de dados (big data). A gente precisa do spark, porque às vezes a análise de um problema necessita o processamento de dados, muitos e muitos dados, mais dados do que uma máquina sozinha seria capaz de processar. Então, posto que temos tanta informação para processar, vamos utilizar uma aplicação distribuida - spark - que consiga dividir esse bloco de trabalho enorme em bloquinhos menores e fazer máquinas diferentes processarem cada bloquinho para depois obter o mesmo resultado em menos tempo.\n",
    "\n",
    "![alt text](https://dzone.com/storage/temp/9507196-data-flow2x-768x897.png)\n",
    "\n",
    "Mllib é a biblioteca de machine learning do spark, ela vai permitir o uso LDA de forma otimizada para o processamento distribuido que o spark oferece. No tutorial, nós vamos aplicar ela localmente, mas a transição de local para em um cluster na AWS é extremamente fácil e vai ser mostrada aqui também."
   ]
  },
  {
   "cell_type": "markdown",
   "metadata": {},
   "source": [
    "## Por que usar eles ao invés de scikit-learn ou outra biblioteca de machine learning?\n",
    "\n",
    "Vamos responder esta com uma atividade, no final deste tutorial, onde você vai tentar fazer algo parecido com o que estamos prestes a fazer com o spark e mllib, mas com uma biblioteca não distribuida - o scikit-learn; o objetivo desta atividade é mostrar que para volumes massivos de informação, é muito mais adequado utilizar uma aplicação distribuida como o spark, uma vez que o tempo para processar essa quantidade de dados em uma máquina se torna inadequado."
   ]
  },
  {
   "cell_type": "markdown",
   "metadata": {},
   "source": [
    "## Seria prudente ter uma noção sólida dos seguintes conceitos para passar deste ponto:\n",
    "\n",
    "*   Programação em Python\n",
    "*   Topic modeling (nada demais, só ter certeza que o conteúdo do tutorial até agora ficou claro)\n",
    "\n",
    "## Para começar, você vai precisar ter acesso a:\n",
    "\n",
    "*   Uma máquina Ubuntu (O tutorial não foi testado em outros OS's)\n",
    "\n",
    "#### E nessa maquina, vai ser necessário ter instalado:\n",
    "*   Python\n",
    "*   Pip\n",
    "*   Java (recomendamos a versão 8 do jdk)\n"
   ]
  },
  {
   "cell_type": "markdown",
   "metadata": {},
   "source": [
    "## Como instalar algumas partes que talvez você não tenha\n",
    "Supondo que você não tenha já o pyspark e o findspark, segue como instalar eles - para usar spark pelo python:"
   ]
  },
  {
   "cell_type": "code",
   "execution_count": 1,
   "metadata": {},
   "outputs": [],
   "source": [
    "!pip install -q pyspark\n",
    "!pip install -q findspark"
   ]
  },
  {
   "cell_type": "markdown",
   "metadata": {},
   "source": [
    "## Antes de começar, vamos importar tudo que vamos usar:"
   ]
  },
  {
   "cell_type": "code",
   "execution_count": 2,
   "metadata": {},
   "outputs": [],
   "source": [
    "import findspark\n",
    "import os\n",
    "import pyspark\n",
    "import string\n",
    "\n",
    "from pyspark.sql.functions import monotonically_increasing_id\n",
    "from pyspark.sql import SparkSession, SQLContext\n",
    "from pyspark import SparkContext\n",
    "from pyspark.mllib.util import MLUtils\n",
    "from pyspark.sql.types import *\n",
    "from pyspark.ml.feature import CountVectorizer, CountVectorizerModel, Tokenizer, RegexTokenizer, StopWordsRemover\n",
    "from pyspark.mllib.clustering import LDA, LDAModel\n",
    "from pyspark.mllib.linalg import Vector, Vectors"
   ]
  },
  {
   "cell_type": "markdown",
   "metadata": {},
   "source": [
    "Uau, parece um monte de coisa, e é! Tudo isso é necessario para que seja possivel o uso do spark via python - e no findspark init, você talvez tenha um diretorio diferente onde você instalou o spark e é esse repositorio que devia vir aqui!"
   ]
  },
  {
   "cell_type": "markdown",
   "metadata": {},
   "source": [
    "## Começando, vamos iniciar uma seção spark e ajustar tudo agora que temos as bibliotecas importadas\n",
    "\n",
    "Essa é a porta de entrada para desenvolvimento em Spark, aqui a gente inicia a seção Spark em cima da qual todo o resto da aplicação vai rodar"
   ]
  },
  {
   "cell_type": "code",
   "execution_count": 3,
   "metadata": {},
   "outputs": [],
   "source": [
    "sc = pyspark.SparkContext(appName = \"LDA_app\")\n",
    "\n",
    "sqlContext = SQLContext(sc)\n",
    "\n",
    "sqlContext = SQLContext(sc)\n",
    "\n",
    "spark = SparkSession \\\n",
    "    .builder \\\n",
    "    .appName(\"Python Spark SQL basic example\") \\\n",
    "    .config(\"spark.some.config.option\", \"some-value\") \\\n",
    "    .getOrCreate()"
   ]
  },
  {
   "cell_type": "markdown",
   "metadata": {},
   "source": [
    "## Começando, vamos obter dados\n",
    "Nós vamos usar dados deste db, contendo as letras de musicas:\n",
    "\n",
    "https://www.kaggle.com/mousehead/songlyrics/download\n",
    "\n",
    "(~22MB)\n",
    "\n",
    "Com os dados em mãos, precisamos alimentar eles ao Spark, da seguinte forma:"
   ]
  },
  {
   "cell_type": "code",
   "execution_count": 4,
   "metadata": {},
   "outputs": [],
   "source": [
    "dataset_location = 'songdata.csv'\n",
    "\n",
    "# Ler os dados do arquivo \n",
    "data_df = spark.read.csv(dataset_location,header=True, multiLine=True,sep=\",\");\n",
    "\n",
    "# Excluir as linhas nulas, que não contem dados\n",
    "data_df = data_df.na.drop()"
   ]
  },
  {
   "cell_type": "markdown",
   "metadata": {},
   "source": [
    "Nessa etapa, nós estamos pegando os dados usando a spark.read.csv, os parametros header e multiline indicam que a primeira linha de dados é na verdade a linha que da nome às colunas e que a informação da tabela pode ter quebras de linha, famosos \"\\n\", respectivamente. Nós utilizamos tambem o parametro sep, para indicar que a informação ta separada por uma virgula no arquivo .csv."
   ]
  },
  {
   "cell_type": "markdown",
   "metadata": {},
   "source": [
    "## Dados obtidos, vamos agora \n",
    "Tokenizar os dados. Mais uma palavra chave, tokenizar, que nada mais significa do que aglutinar tudo aquilo que é parecido - como estamos trabalhando com letras de musicas, tem muita abreviação, palavras escritas de forma estilizada e coisas do tipo, mas só nos interessa uma variação destas, contanto que ela tenha significado sintatico diferente das outras palavras. Por exemplo, \"feel\", \"feeling\", \"feels\" vão se tornar uma palavra só."
   ]
  },
  {
   "cell_type": "code",
   "execution_count": 5,
   "metadata": {},
   "outputs": [],
   "source": [
    "# Tokenizando as palavras da coluna texto e \n",
    "# adicionando uma coluna palavras para guardar essa informação\n",
    "tokenizer = Tokenizer(inputCol=\"text\", outputCol=\"words\")\n",
    "wordsDataFrame = tokenizer.transform(data_df)"
   ]
  },
  {
   "cell_type": "markdown",
   "metadata": {},
   "source": [
    "## Agora dando uma limpada nos dados\n",
    "Vamos tirar as 20 palavras mais recorrentes, as que tem caracteres numericos e as com menos de 3 caracteres, para isso, vai ser necessario executarmos alguns passos"
   ]
  },
  {
   "cell_type": "code",
   "execution_count": 6,
   "metadata": {},
   "outputs": [],
   "source": [
    "# Essas duas linhas agrupam as palavras que nós não queremos\n",
    "cv_tmp = CountVectorizer(inputCol=\"words\", outputCol=\"tmp_vectors\")\n",
    "cv_tmp_model = cv_tmp.fit(wordsDataFrame)\n",
    "\n",
    "# Aqui vão ficar as nossas 20 palavras mais fraquentes\n",
    "top20 = list(cv_tmp_model.vocabulary[0:20])\n",
    "\n",
    "# Aqui vao ficar as que tem menos de 3 caracteres\n",
    "more_then_3_charachters = [word for word in cv_tmp_model.vocabulary if len(word) <= 3]\n",
    "\n",
    "# Aqui vão ficar as que tem digitos numericos\n",
    "contains_digits = [word for word in cv_tmp_model.vocabulary if any(char.isdigit() for char in word)]\n",
    "\n",
    "#\n",
    "# Voce pode adicionar palavras que deseja filtrar nesta lista!\n",
    "#\n",
    "stopwords = [] \n",
    "\n",
    "# Juntando as 3 listas de coisas que não queremos\n",
    "stopwords = stopwords + top20 + more_then_3_charachters + contains_digits\n",
    "\n",
    "# Podemos remover as palavras que não queremos, finalmente\n",
    "remover = StopWordsRemover(inputCol=\"words\", outputCol=\"filtered\", stopWords = stopwords)\n",
    "wordsDataFrame = remover.transform(wordsDataFrame)"
   ]
  },
  {
   "cell_type": "markdown",
   "metadata": {},
   "source": [
    "## Dando uns passos para trás\n",
    "\n",
    "Vamos repetir o processo de agrupar as palavras, agora que filtramos as que não eram de interesse"
   ]
  },
  {
   "cell_type": "code",
   "execution_count": 7,
   "metadata": {},
   "outputs": [],
   "source": [
    "#Create a new CountVectorizer model without the stopwords\n",
    "Vector = CountVectorizer(inputCol=\"filtered\", outputCol=\"vectors\")\n",
    "model = Vector.fit(wordsDataFrame)\n",
    "result = model.transform(wordsDataFrame)"
   ]
  },
  {
   "cell_type": "markdown",
   "metadata": {},
   "source": [
    "## Alguem falou burocracia??\n",
    "É, até no codigo tem burocracia... Precisamos formatar a informação que temos para ela ser palatavel para o mllib"
   ]
  },
  {
   "cell_type": "code",
   "execution_count": 9,
   "metadata": {},
   "outputs": [],
   "source": [
    "# Adicionando um id unico para cada item (a funcao não faz isso automaticamente, mas como só vamos fazer uma vez, sabemos que será unico)\n",
    "# Alem disso, estamos tambem pegando só a informação que queremos, e com a ajuda da funcao, temos ela na ordem [id's, vetores]\n",
    "sparsevector = result.withColumn(\"id\", monotonically_increasing_id()).select('id', 'vectors')\n",
    "\n",
    "# Aqui convertemos o que temos para algo que o mllib consegue usar\n",
    "sparsevector = MLUtils.convertMatrixColumnsFromML(sparsevector)\n",
    "\n",
    "corpus = sparsevector.select(\"id\", \"vectors\").rdd.map(lambda x: [x[0], Vectors.fromML(x[1])]).cache()# , lambda y: Vectors.fromML(y)"
   ]
  },
  {
   "cell_type": "markdown",
   "metadata": {},
   "source": [
    "## Cream of the crop\n",
    "Aqui a gente treina nosso modelo LDA! Poderiamos ter escolhido varios parametros, mas deixamos ele nos defaults que são aceitaveis nesse caso"
   ]
  },
  {
   "cell_type": "code",
   "execution_count": 10,
   "metadata": {},
   "outputs": [],
   "source": [
    "ldaModel = LDA.train(corpus)"
   ]
  },
  {
   "cell_type": "markdown",
   "metadata": {},
   "source": [
    "Finalmente, os resultados!!"
   ]
  },
  {
   "cell_type": "code",
   "execution_count": 11,
   "metadata": {
    "scrolled": false
   },
   "outputs": [
    {
     "name": "stdout",
     "output_type": "stream",
     "text": [
      "topic nr: 0\n",
      "don't 0.0113232563906\n",
      "like 0.0102195759537\n",
      "down 0.0100079298242\n",
      "with 0.00919105864446\n",
      "yeah 0.00861946739072\n",
      "just 0.00846448928641\n",
      "back 0.00843188729723\n",
      "know 0.00793055364\n",
      "come 0.00785361222616\n",
      "road 0.0078441810019\n",
      "it's 0.00771851648569\n",
      "when 0.00768491664197\n",
      "ain't 0.00756118637059\n",
      "gonna 0.00727239154219\n",
      "what 0.00674568699061\n",
      "topic nr: 1\n",
      "don't 0.013463795635\n",
      "it's 0.0110282608979\n",
      "just 0.0107034781696\n",
      "know 0.0101012005968\n",
      "this 0.0100083645252\n",
      "with 0.00993350480972\n",
      "when 0.00956380199466\n",
      "take 0.00899438713952\n",
      "make 0.00884034921256\n",
      "right 0.00868516382029\n",
      "want 0.00866366173536\n",
      "you're 0.00851897121901\n",
      "like 0.0084817593158\n",
      "what 0.00806905057977\n",
      "find 0.00787973784165\n",
      "topic nr: 2\n",
      "know 0.0136316160377\n",
      "will 0.010677639695\n",
      "don't 0.0104866605117\n",
      "this 0.0102288705887\n",
      "when 0.0102004470962\n",
      "what 0.00995430320224\n",
      "just 0.00984628230795\n",
      "it's 0.00938644639121\n",
      "with 0.00862754451543\n",
      "i'll 0.00831802445141\n",
      "time 0.00711969661268\n",
      "can't 0.00688587529805\n",
      "never 0.00686974864572\n",
      "you're 0.00663386988214\n",
      "like 0.00657230059077\n",
      "topic nr: 3\n",
      "like 0.0137243598596\n",
      "just 0.0121251628524\n",
      "what 0.0106419680189\n",
      "it's 0.00994191030544\n",
      "know 0.00981594966857\n",
      "with 0.00980747372321\n",
      "don't 0.00979000321668\n",
      "when 0.00968877402901\n",
      "they 0.00800958361638\n",
      "this 0.00726590842387\n",
      "little 0.0070910996211\n",
      "down 0.00634269560246\n",
      "you're 0.00602890945473\n",
      "tell 0.00571890268923\n",
      "beat 0.00560306343247\n",
      "topic nr: 4\n",
      "it's 0.00922497390489\n",
      "when 0.00911919349454\n",
      "just 0.00893144800904\n",
      "know 0.00883254202577\n",
      "don't 0.0083191681798\n",
      "with 0.00816720816968\n",
      "have 0.0073005668303\n",
      "this 0.00722992306968\n",
      "like 0.00663284464249\n",
      "i'll 0.00661180069716\n",
      "will 0.00628940597348\n",
      "come 0.00622772406542\n",
      "time 0.0059996331895\n",
      "what 0.00595201621556\n",
      "there 0.00567856448987\n",
      "topic nr: 5\n",
      "don't 0.0179260602765\n",
      "know 0.0108033729813\n",
      "want 0.0102013343458\n",
      "just 0.00877449145953\n",
      "with 0.00853550804822\n",
      "baby 0.00827845284308\n",
      "like 0.0081679465739\n",
      "when 0.00815070149592\n",
      "it's 0.00771800769111\n",
      "yeah 0.00766433710824\n",
      "what 0.00758244285998\n",
      "this 0.00731868866877\n",
      "time 0.00667245631522\n",
      "come 0.00635572469303\n",
      "never 0.00614151110854\n",
      "topic nr: 6\n",
      "know 0.0106507070234\n",
      "with 0.00989243828443\n",
      "don't 0.00944327133082\n",
      "just 0.00942923345644\n",
      "it's 0.00935513796472\n",
      "when 0.00915108966422\n",
      "what 0.0087082415499\n",
      "like 0.0086826089719\n",
      "this 0.00797148937282\n",
      "never 0.00723629926277\n",
      "they 0.00711773953973\n",
      "have 0.00704528934213\n",
      "time 0.0068575324325\n",
      "you're 0.00620592396623\n",
      "take 0.00617642740824\n",
      "topic nr: 7\n",
      "don't 0.0148643135108\n",
      "with 0.012561488362\n",
      "know 0.00967260067912\n",
      "just 0.00920876067633\n",
      "when 0.00907842273829\n",
      "this 0.00775329559132\n",
      "down 0.00771310534087\n",
      "you're 0.00744220131373\n",
      "it's 0.00709623507253\n",
      "will 0.00696763363559\n",
      "feel 0.00673895113112\n",
      "what 0.00652866401584\n",
      "heart 0.00647054478928\n",
      "from 0.00629576618647\n",
      "can't 0.00592076709768\n",
      "topic nr: 8\n",
      "don't 0.0106146944681\n",
      "this 0.0101284333808\n",
      "just 0.00966201523232\n",
      "it's 0.00940977891582\n",
      "will 0.00889085474178\n",
      "with 0.00878855185951\n",
      "when 0.0087838890364\n",
      "know 0.00865398439508\n",
      "what 0.00790547725357\n",
      "never 0.00713881595734\n",
      "have 0.00707005877911\n",
      "could 0.00681495205002\n",
      "time 0.00680445213401\n",
      "like 0.00666868849898\n",
      "you're 0.00613743532318\n",
      "topic nr: 9\n",
      "it's 0.0169991697799\n",
      "with 0.00974290232846\n",
      "like 0.00958150784663\n",
      "just 0.00949194272629\n",
      "time 0.00882612134091\n",
      "don't 0.00881021583827\n",
      "know 0.00773172801684\n",
      "gonna 0.00761970576017\n",
      "you're 0.00760148695631\n",
      "when 0.00727288969396\n",
      "dance 0.00724594616815\n",
      "what 0.00679322590155\n",
      "this 0.00657889414813\n",
      "have 0.00651050333759\n",
      "come 0.0059447655595\n"
     ]
    }
   ],
   "source": [
    "topics = ldaModel.describeTopics(maxTermsPerTopic = 15)\n",
    "for x, topic in enumerate(topics):\n",
    "    print ('topic nr: ' + str(x))\n",
    "    words = topic[0]\n",
    "    weights = topic[1]\n",
    "    for n in range(len(words)):\n",
    "        print (model.vocabulary[words[n]] + ' ' + str(weights[n]))"
   ]
  },
  {
   "cell_type": "code",
   "execution_count": null,
   "metadata": {},
   "outputs": [],
   "source": []
  }
 ],
 "metadata": {
  "kernelspec": {
   "display_name": "Python 2",
   "language": "python",
   "name": "python2"
  },
  "language_info": {
   "codemirror_mode": {
    "name": "ipython",
    "version": 2
   },
   "file_extension": ".py",
   "mimetype": "text/x-python",
   "name": "python",
   "nbconvert_exporter": "python",
   "pygments_lexer": "ipython2",
   "version": "2.7.12"
  }
 },
 "nbformat": 4,
 "nbformat_minor": 2
}
